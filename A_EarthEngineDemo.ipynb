{
 "cells": [
  {
   "cell_type": "code",
   "execution_count": 1,
   "id": "d664c257-e6cd-4d41-9136-e88489c4a2e0",
   "metadata": {},
   "outputs": [],
   "source": [
    "# Import the functions \n",
    "import sys\n",
    "sys.path.append('./00_Functions')\n",
    "\n",
    "## Import Statements \n",
    "import geemap\n",
    "import ee\n",
    "import ipywidgets\n",
    "import ipyleaflet\n",
    "\n",
    "# Subfunctions\n",
    "from f_Dates import dates\n",
    "from f00_vizParamStore import vizParamStore\n",
    "from f01_SAR import SAR\n",
    "from f02_FloodExtent import FloodExtent\n",
    "from f03_Population import Population\n",
    "from f04_Agriculture import Agriculture\n",
    "from f05_Urban import Urban"
   ]
  },
  {
   "cell_type": "code",
   "execution_count": 2,
   "id": "1ff1e1b4-a10d-4914-9ee1-644362131a34",
   "metadata": {},
   "outputs": [],
   "source": [
    "# Only Run Once - Authenticates your Google Earth Engine Instance\n",
    "#ee.Authenticate()\n",
    "# Initiates the instance\n",
    "ee.Initialize()"
   ]
  },
  {
   "cell_type": "markdown",
   "id": "95a74e5b-ddb3-462a-b9bc-3c9b39b87149",
   "metadata": {},
   "source": [
    "# Synthetic Aperture Radar Flood Mapping\n",
    "\n",
    "Synthetic Aperture Radar (SAR) is an actively sensed (it uses energy to generate the signal, in this case radar) data collection method. This application will use a change detection approach to generate a flood extent map using Sentinel-1 'Ground Range Detected' imagery. \n",
    "\n",
    "This consists of generating a before and after flood event elevation model, which we can use raster mathematics to obtain a difference map based on the set threshold. Ground Range Detected imagery includes the following preprocessing steps: \n",
    "\n",
    "* Thermal-Noise Removal\n",
    "* Radiometric calibration\n",
    "* Terrain-correction\n",
    "\n",
    "For this app, the user will specify the pass difference, polarization and difference threshold. \n",
    "\n",
    "The sample script builds a map of flooding in Beira, Mozambique where a cyclone caused a significant coastal flooding in March 2019. More than 200k people were affected. "
   ]
  },
  {
   "cell_type": "markdown",
   "id": "ebd891ff-232d-4fee-9ac1-0b624b236b6e",
   "metadata": {},
   "source": [
    "## User Inputs\n",
    "\n",
    "For this application, the user will have to input several components\n",
    "\n",
    "### Geometry\n",
    "You can build a polygon in the Google Earth Engine Code editor and input the code directly into the script. \n",
    "\n",
    "### Time Period\n",
    "* Set start and end dates of a period BEFORE the flood\n",
    "* Make sure it is long enough for Sentinel-1 to acquire an image (repitition rate = 6 days)\n",
    "* Adjust these parameters, if ImageCollection does not contain any elements\n",
    "\n",
    "### SAR Parameters\n",
    "\n",
    "##### `polarization`\n",
    "* VH mostly is the prefered polarization for flood mapping\n",
    "* However, it always depends on your study area, you can select 'VV' as well\n",
    "\n",
    "##### `pass_direction` \n",
    "* Choose either \"DESCENDING\" or ASCENDING' \n",
    "* When images are being compared use only one pass direction\n",
    "* Change this parameter if your image collection is empty\n",
    "* In some areas more Ascending images exist than than descending and vice-versa\n",
    "                           \n",
    "##### `difference_threshold` = 1.25\n",
    "* Threshold to calculate difference between before/after flood image\n",
    "* Built with trial and error\n",
    "* Adjust if you have significant false positives or negatives \n",
    "                           \n",
    "##### `relative_orbit` = 79\n",
    "* Empty by default \n",
    "* Used if you know the relative orbit for your study area, \n",
    "* It will  filter the image collection to avoid errors caused by comparing different relative orbits"
   ]
  },
  {
   "cell_type": "code",
   "execution_count": 3,
   "id": "cc6fe2d6-b6e3-4e9c-9adf-c3c9e3368b96",
   "metadata": {},
   "outputs": [],
   "source": [
    "### Flooding in Beira, Mozambique ###\n",
    "\n",
    "geometry = ee.Geometry.Polygon(\n",
    "    [[\n",
    "        [35.53377589953368, -19.6674648789114],\n",
    "        [34.50106105578368, -18.952058786515526],\n",
    "        [33.63314113390868, -19.87423907259203],\n",
    "        [34.74825343859618, -20.61123742951084]\n",
    "    ]])\n",
    "\n",
    "before_start= '2019-03-01'\n",
    "before_end='2019-03-10'\n",
    "\n",
    "after_start='2019-03-10'\n",
    "after_end='2019-03-23'\n",
    "\n",
    "polarization = \"VH\" \n",
    "pass_direction = \"DESCENDING\"\n",
    "difference_threshold = 1.25\n",
    "#relative_orbit = 79;\n",
    "\n",
    "center = [-19.7234, 34.598]\n",
    "zoom = 10"
   ]
  },
  {
   "cell_type": "code",
   "execution_count": 4,
   "id": "7da78dcc-5d35-41e4-8880-5d5c667682f2",
   "metadata": {},
   "outputs": [],
   "source": [
    "aoi = ee.FeatureCollection(geometry);"
   ]
  },
  {
   "cell_type": "code",
   "execution_count": 5,
   "id": "fa677d93-5738-4ada-bcca-7d32ca6257a2",
   "metadata": {},
   "outputs": [],
   "source": [
    "before_filtered, after_filtered = SAR(geometry, polarization, pass_direction, difference_threshold,\n",
    "           before_start, before_end, after_start, after_end)"
   ]
  },
  {
   "cell_type": "markdown",
   "id": "7d29a84d-b7b2-414f-845d-cd8a5113bf5b",
   "metadata": {},
   "source": [
    "## Calculations\n",
    "The primary calculations are handled in Python subfunctions. More detail can be found in each of the individual scripts, but there are five major segments.\n",
    "\n",
    "#### Difference \n",
    "Calculates the difference betwen the SAR images.\n",
    "#### Flood Extent\n",
    "Calculates the extent of the flooding via the difference between the SAR images and the difference threshold used.\n",
    "#### Population \n",
    "Uses the JRC Global Human Settlement Popluation Density layer to identify the population affected. \n",
    "#### Agriculture \n",
    "Uses MODIS Land Cover Type Yearly Global 500m to identify the agricultural areas affected. \n",
    "#### Urban Areas\n",
    "Uses MODIS Land Cover Type Yearly Global 500m to identify the urban areas affected. "
   ]
  },
  {
   "cell_type": "code",
   "execution_count": 6,
   "id": "da54134f-af4c-4369-9b76-fb569fa61e9e",
   "metadata": {},
   "outputs": [],
   "source": [
    "### Chained Subfunctions\n",
    "difference, flooded, flood_area_ha = FloodExtent(before_filtered, after_filtered, difference_threshold, aoi, polarization)\n",
    "population_count, population_exposed, number_pp_exposed = Population(aoi, flooded)\n",
    "cropland, cropland_affected, crop_area_ha, LC, flooded_res = Agriculture(aoi, flooded, after_end, polarization)\n",
    "urban, urban_affected, urban_area_ha = Urban(LC, aoi, flooded_res)"
   ]
  },
  {
   "cell_type": "markdown",
   "id": "3915e58b-c2e9-4d28-942f-a93c253de55b",
   "metadata": {
    "tags": []
   },
   "source": [
    "# Build the Map\n",
    "This section builds the map, layer-by-layer. "
   ]
  },
  {
   "cell_type": "code",
   "execution_count": 7,
   "id": "baa27874-0561-4aad-a821-bb6809752364",
   "metadata": {},
   "outputs": [],
   "source": [
    "Map = geemap.Map(center = center, zoom = zoom)\n",
    "Map.add_basemap('Esri.NatGeoWorldMap')"
   ]
  },
  {
   "cell_type": "code",
   "execution_count": 8,
   "id": "c7425d10-c2b1-4bad-aca2-88f5ac155ba5",
   "metadata": {},
   "outputs": [],
   "source": [
    "# Extract VizParams from function\n",
    "(floodVizParam, populationCountVis, populationExposedVis, \n",
    " LCVis, croplandVis, urbanVis) = vizParamStore()"
   ]
  },
  {
   "cell_type": "code",
   "execution_count": 9,
   "id": "abc3683a-6119-406f-8ba7-a91e7e746f67",
   "metadata": {},
   "outputs": [],
   "source": [
    "Map.addLayer(before_filtered, {'min':-25, 'max':0}, 'Before Flood',0);\n",
    "Map.addLayer(after_filtered, {'min':-25, 'max':0}, 'After Flood',1);\n",
    "# Difference layer\n",
    "Map.addLayer(difference,{'min':0,'max':2},\"Difference Layer\", 0);\n",
    "# Flooded areas\n",
    "Map.addLayer(flooded, floodVizParam, 'Flooded areas');\n",
    "# Population Density\n",
    "#Map.addLayer(population_count, populationCountVis, 'Population Density', 0);\n",
    "# Exposed Population\n",
    "#Map.addLayer(population_exposed, populationExposedVis, 'Exposed Population');\n",
    "# Landcover Visibility\n",
    "#Map.addLayer(LC, LCVis, 'Land Cover', 0);\n",
    "# Cropland\n",
    "#Map.addLayer(cropland, croplandVis, 'Cropland',0)\n",
    "# Affected cropland\n",
    "#Map.addLayer(cropland_affected, croplandVis, 'Affected Cropland'); \n",
    "# Urban\n",
    "#Map.addLayer(urban, urbanVis, 'Urban', 0)\n",
    "# Affected urban\n",
    "#Map.addLayer(urban_affected, urbanVis, 'Affected Urban'); "
   ]
  },
  {
   "cell_type": "code",
   "execution_count": 10,
   "id": "9ade1d17-c29a-4283-9fff-53eb82ef3ec6",
   "metadata": {
    "tags": []
   },
   "outputs": [
    {
     "data": {
      "application/vnd.jupyter.widget-view+json": {
       "model_id": "a3180ed684314e3197d5229aa82033cc",
       "version_major": 2,
       "version_minor": 0
      },
      "text/plain": [
       "Map(center=[-19.7234, 34.598], controls=(WidgetControl(options=['position', 'transparent_bg'], widget=HBox(chi…"
      ]
     },
     "metadata": {},
     "output_type": "display_data"
    }
   ],
   "source": [
    "Map"
   ]
  },
  {
   "cell_type": "code",
   "execution_count": 12,
   "id": "943edb10",
   "metadata": {},
   "outputs": [],
   "source": [
    "roi = aoi.geometry()\n",
    "\n",
    "#geemap.ee_export_image(\n",
    "#    difference, filename='difference.tif', scale=10, region=roi, file_per_band=True\n",
    "#)\n"
   ]
  },
  {
   "cell_type": "code",
   "execution_count": null,
   "id": "a8e260cd",
   "metadata": {},
   "outputs": [],
   "source": []
  },
  {
   "cell_type": "code",
   "execution_count": null,
   "id": "0f021b72",
   "metadata": {},
   "outputs": [],
   "source": []
  }
 ],
 "metadata": {
  "interpreter": {
   "hash": "ec9e24bde1833ef0ef93e4cf9cecf27c680e00c5d9cebee87bbc6a68c9a6acfb"
  },
  "kernelspec": {
   "display_name": "Python 3.9.13 ('geospatial')",
   "language": "python",
   "name": "python3"
  },
  "language_info": {
   "codemirror_mode": {
    "name": "ipython",
    "version": 3
   },
   "file_extension": ".py",
   "mimetype": "text/x-python",
   "name": "python",
   "nbconvert_exporter": "python",
   "pygments_lexer": "ipython3",
   "version": "3.9.13"
  }
 },
 "nbformat": 4,
 "nbformat_minor": 5
}
